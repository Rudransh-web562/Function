{
  "nbformat": 4,
  "nbformat_minor": 0,
  "metadata": {
    "colab": {
      "provenance": []
    },
    "kernelspec": {
      "name": "python3",
      "display_name": "Python 3"
    },
    "language_info": {
      "name": "python"
    }
  },
  "cells": [
    {
      "cell_type": "markdown",
      "source": [
        "#Function"
      ],
      "metadata": {
        "id": "t2jtn49mtLME"
      }
    },
    {
      "cell_type": "markdown",
      "source": [
        "Ques 1. What is the difference between a function and a method in Python?\n",
        "   - Difference between a Function and a Method in Python:\n",
        "\n",
        "  - Function: A standalone block of code that performs a specific task. It is called independently and is not tied to any object.\n",
        "Example: len(\"hello\") – len() is a built-in function that works on various data types.\n",
        "\n",
        "  - Method: A function that is associated with an object and operates on that object's data. It is called using the object's name followed by a dot (.).\n",
        "Example: \"hello\".upper() – upper() is a string method that converts the string to uppercase."
      ],
      "metadata": {
        "id": "5Av-dmO1tgrh"
      }
    },
    {
      "cell_type": "markdown",
      "source": [
        "Ques 2. Explain the concept of function arguments and parameters in Python.\n",
        "   - Function Parameters vs. Arguments in Python\n",
        "  - Parameters: Variables listed inside the parentheses in the function definition. They act as placeholders for the values the function expects.\n",
        "\n",
        "  - Arguments: The actual values passed to the function when it is called. These values replace the parameters during execution.\n",
        "    - Example\n",
        "    def greet(name):  # 'name' is the parameter\n",
        "    print(f\"Hello, {name}!\")\n",
        "\n",
        "greet(\"Alice\")  # \"Alice\" is the argument\n"
      ],
      "metadata": {
        "id": "0LaGMBTWtq8H"
      }
    },
    {
      "cell_type": "markdown",
      "source": [
        "Ques 3. What are the different ways to define and call a function in Python?\n",
        "   - Define:\n",
        "    - Using the def keywords: def my_function():....\n",
        "    - Using lambda expressions ( anonymous function ): lambda x: x * 2\n",
        "   - Call:\n",
        "    - Using the function name followed by parentheses: my_function()\n",
        "    - Passing arguments within the parentheses: my_function(arg1,arg2)\n"
      ],
      "metadata": {
        "id": "Bza6MX_s6ix-"
      }
    },
    {
      "cell_type": "markdown",
      "source": [
        "Ques 4. What is the purpose of the return statement in a python function?\n",
        "   - The return statement ends the function  and sends a value back to the caller. If no value is specified, it return None."
      ],
      "metadata": {
        "id": "pHnLFg5Y9W6K"
      }
    },
    {
      "cell_type": "markdown",
      "source": [
        "Ques 5. What are iterators in Python and how do they differ from iterables?\n",
        "   - Iterable: An object that can be looped over(e.g., list, string). it can produce an iterator.\n",
        "   - Itwrator: An object that produces value one at time using next(). It remembers its state.\n",
        "     - Diffrence: Iterables can be converte into iterators using iter(). Iterators are consumed as they are used."
      ],
      "metadata": {
        "id": "wtWX4vfd5oTD"
      }
    },
    {
      "cell_type": "markdown",
      "source": [
        "Ques 6. Example the concept of generators in python and how they are defined.\n",
        "   - Generator: Afunction that returns an iterator . It uses the yeild keywords to produce vakues on demand, pausing and resuming execution.\n",
        "   - Defination: Similar to a function, but uses yield insted of return.\n",
        "    - Example: def count_up_to(n):i = 1 while i< = n: yield i i + = 1"
      ],
      "metadata": {
        "id": "o04L6x8t8QiB"
      }
    },
    {
      "cell_type": "markdown",
      "source": [
        "Ques 7. What are the advantages of using generators over regular functions?\n",
        "   - Memory Efficiency: Generators produce values on demand, saving memory, especially for large datasets.\n",
        "   - Lazy Evaluation: Values are generated only when needed, improving performance.\n",
        "   - Better Readability: Can simplify code for complex iterations."
      ],
      "metadata": {
        "id": "KoouWpVs-j0B"
      }
    },
    {
      "cell_type": "markdown",
      "source": [
        "Ques9. Explain the purpose and usage of the map() function in Python.\n",
        "   - Purpose: Applies a function to each item of an iterable and returns an iterator of the results.\n",
        "   - Usage: map (finction, iterator of the result.\n",
        "     - Example: map (lampda x: x**2,[1,2,3])(squares each number in the list)."
      ],
      "metadata": {
        "id": "K3RQchys-0_w"
      }
    },
    {
      "cell_type": "markdown",
      "source": [
        "Ques 10. What is the diffrence between map(), reduce, and filter() functions in python?\n",
        "   - map(): Applies a function to eacgh item and returns  new iterable of the trnasformed items.\n",
        "   -Reduce(): Applies a function cumulatively to the items of an iterable, reducing it to a single value. (Requires functools module in python 3).\n",
        "   - Filters(): Creates a new iterable with items for which a function return true."
      ],
      "metadata": {
        "id": "qbdhVfYX_-6Y"
      }
    },
    {
      "cell_type": "markdown",
      "source": [
        "Ques 11. Using pen & Paper write the internal mechanism for sum operation using reduce function on this given list:[47,11,42,13];\n",
        "   - paper Explanation:\n",
        "     - Initial: reduce stars with the first two elements: 47 and 11.\n",
        "     - Step 1:47 + 42 = 100. the result(58) become the first agrgument for the next step.\n",
        "     - Step2:58 + 42 +100. The result (100) become the first argument for the next step.\n",
        "     - Step3: 100 + 13 =113. The final result is 113 python code:\n",
        "     from functools impact reduce number = [47,11,42,13] total = reduce (lamda x,y:x+y, numbers )print(total)"
      ],
      "metadata": {
        "id": "pc-MOTnWAtZq"
      }
    },
    {
      "cell_type": "markdown",
      "source": [
        "For answers to practical questions please refer to the link given below.\n",
        "\n",
        "https://colab.research.google.com/drive/1dUNfO17zrAV-JJv8lNhDecoD08nZ3pAq#scrollTo=KDhCs0sn38UG\n"
      ],
      "metadata": {
        "id": "Wv4tEx0oIPau"
      }
    }
  ]
}